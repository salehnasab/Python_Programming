{
 "cells": [
  {
   "cell_type": "code",
   "execution_count": null,
   "id": "3e704719",
   "metadata": {},
   "outputs": [],
   "source": [
    "L=list([])\n",
    "T=tuple([])\n",
    "S=set([])"
   ]
  },
  {
   "cell_type": "code",
   "execution_count": 1,
   "id": "18127b29",
   "metadata": {},
   "outputs": [],
   "source": [
    "S=set([1,2,3,4,5])"
   ]
  },
  {
   "cell_type": "code",
   "execution_count": 2,
   "id": "1e5b4c1d",
   "metadata": {},
   "outputs": [
    {
     "data": {
      "text/plain": [
       "{1, 2, 3, 4, 5}"
      ]
     },
     "execution_count": 2,
     "metadata": {},
     "output_type": "execute_result"
    }
   ],
   "source": [
    "S"
   ]
  },
  {
   "cell_type": "code",
   "execution_count": 3,
   "id": "51bdac87",
   "metadata": {},
   "outputs": [],
   "source": [
    "L=list([1,2,3,4,5,6])\n",
    "T=tuple([1,2,3,4,5,6])"
   ]
  },
  {
   "cell_type": "code",
   "execution_count": 5,
   "id": "c33285aa",
   "metadata": {},
   "outputs": [
    {
     "data": {
      "text/plain": [
       "[1, 2, 3, 4, 5, 6]"
      ]
     },
     "execution_count": 5,
     "metadata": {},
     "output_type": "execute_result"
    }
   ],
   "source": [
    "L"
   ]
  },
  {
   "cell_type": "code",
   "execution_count": 6,
   "id": "fdff519f",
   "metadata": {},
   "outputs": [
    {
     "data": {
      "text/plain": [
       "(1, 2, 3, 4, 5, 6)"
      ]
     },
     "execution_count": 6,
     "metadata": {},
     "output_type": "execute_result"
    }
   ],
   "source": [
    "T"
   ]
  },
  {
   "cell_type": "code",
   "execution_count": 7,
   "id": "f1ddb3f9",
   "metadata": {},
   "outputs": [
    {
     "data": {
      "text/plain": [
       "{1, 2, 3, 4, 5}"
      ]
     },
     "execution_count": 7,
     "metadata": {},
     "output_type": "execute_result"
    }
   ],
   "source": [
    "S"
   ]
  },
  {
   "cell_type": "code",
   "execution_count": 8,
   "id": "9b8a2d76",
   "metadata": {},
   "outputs": [
    {
     "data": {
      "text/plain": [
       "4"
      ]
     },
     "execution_count": 8,
     "metadata": {},
     "output_type": "execute_result"
    }
   ],
   "source": [
    "L[3]"
   ]
  },
  {
   "cell_type": "code",
   "execution_count": 9,
   "id": "829786e6",
   "metadata": {},
   "outputs": [
    {
     "data": {
      "text/plain": [
       "4"
      ]
     },
     "execution_count": 9,
     "metadata": {},
     "output_type": "execute_result"
    }
   ],
   "source": [
    "T[3]"
   ]
  },
  {
   "cell_type": "code",
   "execution_count": 10,
   "id": "4a2d6838",
   "metadata": {},
   "outputs": [],
   "source": [
    "S=set(range(1,6))"
   ]
  },
  {
   "cell_type": "code",
   "execution_count": 11,
   "id": "46dd88d9",
   "metadata": {},
   "outputs": [
    {
     "data": {
      "text/plain": [
       "{1, 2, 3, 4, 5}"
      ]
     },
     "execution_count": 11,
     "metadata": {},
     "output_type": "execute_result"
    }
   ],
   "source": [
    "S"
   ]
  },
  {
   "cell_type": "code",
   "execution_count": 12,
   "id": "cd663241",
   "metadata": {},
   "outputs": [],
   "source": [
    "S=set([1,2,3,4,5])"
   ]
  },
  {
   "cell_type": "code",
   "execution_count": 13,
   "id": "e630587c",
   "metadata": {},
   "outputs": [
    {
     "data": {
      "text/plain": [
       "{1, 2, 3, 4, 5}"
      ]
     },
     "execution_count": 13,
     "metadata": {},
     "output_type": "execute_result"
    }
   ],
   "source": [
    "S"
   ]
  },
  {
   "cell_type": "code",
   "execution_count": 14,
   "id": "9a8aa7a4",
   "metadata": {},
   "outputs": [
    {
     "name": "stdout",
     "output_type": "stream",
     "text": [
      "1\n",
      "2\n",
      "3\n",
      "4\n",
      "5\n"
     ]
    }
   ],
   "source": [
    "for i in S:\n",
    "    print(i)\n"
   ]
  },
  {
   "cell_type": "code",
   "execution_count": 15,
   "id": "b5f6e2f3",
   "metadata": {},
   "outputs": [
    {
     "data": {
      "text/plain": [
       "True"
      ]
     },
     "execution_count": 15,
     "metadata": {},
     "output_type": "execute_result"
    }
   ],
   "source": [
    "2 in S"
   ]
  },
  {
   "cell_type": "code",
   "execution_count": 16,
   "id": "41e5335a",
   "metadata": {},
   "outputs": [
    {
     "data": {
      "text/plain": [
       "{1, 2, 3, 4, 5}"
      ]
     },
     "execution_count": 16,
     "metadata": {},
     "output_type": "execute_result"
    }
   ],
   "source": [
    "S "
   ]
  },
  {
   "cell_type": "code",
   "execution_count": 17,
   "id": "ce041fd3",
   "metadata": {},
   "outputs": [
    {
     "data": {
      "text/plain": [
       "False"
      ]
     },
     "execution_count": 17,
     "metadata": {},
     "output_type": "execute_result"
    }
   ],
   "source": [
    "9 in S"
   ]
  },
  {
   "cell_type": "code",
   "execution_count": 18,
   "id": "5cacfd58",
   "metadata": {},
   "outputs": [
    {
     "data": {
      "text/plain": [
       "True"
      ]
     },
     "execution_count": 18,
     "metadata": {},
     "output_type": "execute_result"
    }
   ],
   "source": [
    "9 not in S"
   ]
  },
  {
   "cell_type": "code",
   "execution_count": 19,
   "id": "d5cb7cd8",
   "metadata": {},
   "outputs": [
    {
     "data": {
      "text/plain": [
       "{1, 2, 3, 4, 5}"
      ]
     },
     "execution_count": 19,
     "metadata": {},
     "output_type": "execute_result"
    }
   ],
   "source": [
    "S"
   ]
  },
  {
   "cell_type": "code",
   "execution_count": 20,
   "id": "1faffe5f",
   "metadata": {},
   "outputs": [],
   "source": [
    "S.add(5)"
   ]
  },
  {
   "cell_type": "code",
   "execution_count": 21,
   "id": "99470b8a",
   "metadata": {},
   "outputs": [
    {
     "data": {
      "text/plain": [
       "{1, 2, 3, 4, 5}"
      ]
     },
     "execution_count": 21,
     "metadata": {},
     "output_type": "execute_result"
    }
   ],
   "source": [
    "S"
   ]
  },
  {
   "cell_type": "code",
   "execution_count": 22,
   "id": "db8936d5",
   "metadata": {},
   "outputs": [],
   "source": [
    "S.add(9)"
   ]
  },
  {
   "cell_type": "code",
   "execution_count": 23,
   "id": "34c2d3cf",
   "metadata": {},
   "outputs": [
    {
     "data": {
      "text/plain": [
       "{1, 2, 3, 4, 5, 9}"
      ]
     },
     "execution_count": 23,
     "metadata": {},
     "output_type": "execute_result"
    }
   ],
   "source": [
    "S"
   ]
  },
  {
   "cell_type": "code",
   "execution_count": 14,
   "id": "c9b4af9f",
   "metadata": {},
   "outputs": [],
   "source": [
    "S1={2,4,6,8}\n",
    "S2={1,3,5,7}\n",
    "S1.update(S2)"
   ]
  },
  {
   "cell_type": "code",
   "execution_count": 25,
   "id": "2fad40a0",
   "metadata": {},
   "outputs": [
    {
     "data": {
      "text/plain": [
       "{1, 2, 3, 4, 5, 6, 7, 8}"
      ]
     },
     "execution_count": 25,
     "metadata": {},
     "output_type": "execute_result"
    }
   ],
   "source": [
    "S1"
   ]
  },
  {
   "cell_type": "code",
   "execution_count": 3,
   "id": "a44bce9e",
   "metadata": {},
   "outputs": [
    {
     "data": {
      "text/plain": [
       "{1, 2, 3, 4, 5, 6, 7, 8}"
      ]
     },
     "execution_count": 3,
     "metadata": {},
     "output_type": "execute_result"
    }
   ],
   "source": [
    "S1"
   ]
  },
  {
   "cell_type": "code",
   "execution_count": 4,
   "id": "e80c4588",
   "metadata": {},
   "outputs": [
    {
     "data": {
      "text/plain": [
       "1"
      ]
     },
     "execution_count": 4,
     "metadata": {},
     "output_type": "execute_result"
    }
   ],
   "source": [
    "S1.pop()"
   ]
  },
  {
   "cell_type": "code",
   "execution_count": 5,
   "id": "395e252d",
   "metadata": {},
   "outputs": [
    {
     "data": {
      "text/plain": [
       "{2, 3, 4, 5, 6, 7, 8}"
      ]
     },
     "execution_count": 5,
     "metadata": {},
     "output_type": "execute_result"
    }
   ],
   "source": [
    "S1"
   ]
  },
  {
   "cell_type": "code",
   "execution_count": 6,
   "id": "0ab563a1",
   "metadata": {},
   "outputs": [
    {
     "data": {
      "text/plain": [
       "2"
      ]
     },
     "execution_count": 6,
     "metadata": {},
     "output_type": "execute_result"
    }
   ],
   "source": [
    "S1.pop()"
   ]
  },
  {
   "cell_type": "code",
   "execution_count": 7,
   "id": "c0aed1a8",
   "metadata": {},
   "outputs": [
    {
     "data": {
      "text/plain": [
       "{3, 4, 5, 6, 7, 8}"
      ]
     },
     "execution_count": 7,
     "metadata": {},
     "output_type": "execute_result"
    }
   ],
   "source": [
    "S1"
   ]
  },
  {
   "cell_type": "code",
   "execution_count": 9,
   "id": "f930f0b7",
   "metadata": {},
   "outputs": [
    {
     "data": {
      "text/plain": [
       "{1, 2, 3, 4, 5, 6, 7, 8}"
      ]
     },
     "execution_count": 9,
     "metadata": {},
     "output_type": "execute_result"
    }
   ],
   "source": [
    "S1"
   ]
  },
  {
   "cell_type": "code",
   "execution_count": 10,
   "id": "1ee430d8",
   "metadata": {},
   "outputs": [],
   "source": [
    "S1.remove(5)"
   ]
  },
  {
   "cell_type": "code",
   "execution_count": 11,
   "id": "6d7287e2",
   "metadata": {},
   "outputs": [
    {
     "data": {
      "text/plain": [
       "{1, 2, 3, 4, 6, 7, 8}"
      ]
     },
     "execution_count": 11,
     "metadata": {},
     "output_type": "execute_result"
    }
   ],
   "source": [
    "S1"
   ]
  },
  {
   "cell_type": "code",
   "execution_count": 12,
   "id": "54fc43a8",
   "metadata": {},
   "outputs": [],
   "source": [
    "S1.remove(7)"
   ]
  },
  {
   "cell_type": "code",
   "execution_count": 13,
   "id": "3b84c3dd",
   "metadata": {},
   "outputs": [
    {
     "data": {
      "text/plain": [
       "{1, 2, 3, 4, 6, 8}"
      ]
     },
     "execution_count": 13,
     "metadata": {},
     "output_type": "execute_result"
    }
   ],
   "source": [
    "S1"
   ]
  },
  {
   "cell_type": "code",
   "execution_count": 15,
   "id": "b685748a",
   "metadata": {},
   "outputs": [
    {
     "data": {
      "text/plain": [
       "{1, 2, 3, 4, 5, 6, 7, 8}"
      ]
     },
     "execution_count": 15,
     "metadata": {},
     "output_type": "execute_result"
    }
   ],
   "source": [
    "S1"
   ]
  },
  {
   "cell_type": "code",
   "execution_count": 16,
   "id": "7f8bfea5",
   "metadata": {},
   "outputs": [],
   "source": [
    "S1.discard(9)"
   ]
  },
  {
   "cell_type": "code",
   "execution_count": 17,
   "id": "e1f9a9b9",
   "metadata": {},
   "outputs": [
    {
     "data": {
      "text/plain": [
       "{1, 2, 3, 4, 5, 6, 7, 8}"
      ]
     },
     "execution_count": 17,
     "metadata": {},
     "output_type": "execute_result"
    }
   ],
   "source": [
    "S1"
   ]
  },
  {
   "cell_type": "code",
   "execution_count": 18,
   "id": "dcd70263",
   "metadata": {},
   "outputs": [
    {
     "ename": "KeyError",
     "evalue": "9",
     "output_type": "error",
     "traceback": [
      "\u001b[1;31m---------------------------------------------------------------------------\u001b[0m",
      "\u001b[1;31mKeyError\u001b[0m                                  Traceback (most recent call last)",
      "\u001b[1;32mC:\\Users\\SALEHN~1\\AppData\\Local\\Temp/ipykernel_6796/2425365680.py\u001b[0m in \u001b[0;36m<module>\u001b[1;34m\u001b[0m\n\u001b[1;32m----> 1\u001b[1;33m \u001b[0mS1\u001b[0m\u001b[1;33m.\u001b[0m\u001b[0mremove\u001b[0m\u001b[1;33m(\u001b[0m\u001b[1;36m9\u001b[0m\u001b[1;33m)\u001b[0m\u001b[1;33m\u001b[0m\u001b[1;33m\u001b[0m\u001b[0m\n\u001b[0m",
      "\u001b[1;31mKeyError\u001b[0m: 9"
     ]
    }
   ],
   "source": [
    "S1.remove(9)"
   ]
  },
  {
   "cell_type": "code",
   "execution_count": 19,
   "id": "0e03eb81",
   "metadata": {},
   "outputs": [
    {
     "data": {
      "text/plain": [
       "{1, 2, 3, 4, 5, 6, 7, 8}"
      ]
     },
     "execution_count": 19,
     "metadata": {},
     "output_type": "execute_result"
    }
   ],
   "source": [
    "S1"
   ]
  },
  {
   "cell_type": "code",
   "execution_count": 24,
   "id": "60758a14",
   "metadata": {},
   "outputs": [],
   "source": [
    "S1.discard(5)"
   ]
  },
  {
   "cell_type": "code",
   "execution_count": 25,
   "id": "dcfc72e4",
   "metadata": {},
   "outputs": [
    {
     "data": {
      "text/plain": [
       "{1, 2, 3, 4, 6, 7, 8}"
      ]
     },
     "execution_count": 25,
     "metadata": {},
     "output_type": "execute_result"
    }
   ],
   "source": [
    "S1"
   ]
  },
  {
   "cell_type": "code",
   "execution_count": 26,
   "id": "6f6cf462",
   "metadata": {},
   "outputs": [],
   "source": [
    "S1.clear()"
   ]
  },
  {
   "cell_type": "code",
   "execution_count": 27,
   "id": "daa2c37f",
   "metadata": {},
   "outputs": [
    {
     "data": {
      "text/plain": [
       "set()"
      ]
     },
     "execution_count": 27,
     "metadata": {},
     "output_type": "execute_result"
    }
   ],
   "source": [
    "S1"
   ]
  },
  {
   "cell_type": "code",
   "execution_count": 28,
   "id": "b3003623",
   "metadata": {},
   "outputs": [],
   "source": [
    "S1={1,2}"
   ]
  },
  {
   "cell_type": "code",
   "execution_count": 29,
   "id": "26cc6b63",
   "metadata": {},
   "outputs": [],
   "source": [
    "S2=S1.copy()"
   ]
  },
  {
   "cell_type": "code",
   "execution_count": 30,
   "id": "d68cc3de",
   "metadata": {},
   "outputs": [
    {
     "data": {
      "text/plain": [
       "{1, 2}"
      ]
     },
     "execution_count": 30,
     "metadata": {},
     "output_type": "execute_result"
    }
   ],
   "source": [
    "S2"
   ]
  },
  {
   "cell_type": "code",
   "execution_count": 31,
   "id": "a92e8e81",
   "metadata": {},
   "outputs": [],
   "source": [
    "S3=S1"
   ]
  },
  {
   "cell_type": "code",
   "execution_count": 32,
   "id": "b79e3f5e",
   "metadata": {},
   "outputs": [
    {
     "data": {
      "text/plain": [
       "{1, 2}"
      ]
     },
     "execution_count": 32,
     "metadata": {},
     "output_type": "execute_result"
    }
   ],
   "source": [
    "S3"
   ]
  },
  {
   "cell_type": "code",
   "execution_count": 33,
   "id": "c1c15396",
   "metadata": {},
   "outputs": [],
   "source": [
    "S1={1,2}\n",
    "S2={2,3}"
   ]
  },
  {
   "cell_type": "code",
   "execution_count": 34,
   "id": "fd3a967a",
   "metadata": {},
   "outputs": [
    {
     "data": {
      "text/plain": [
       "{1, 2, 3}"
      ]
     },
     "execution_count": 34,
     "metadata": {},
     "output_type": "execute_result"
    }
   ],
   "source": [
    "S1.union(S2) # = S1|S2"
   ]
  },
  {
   "cell_type": "code",
   "execution_count": 35,
   "id": "80a25a51",
   "metadata": {},
   "outputs": [
    {
     "data": {
      "text/plain": [
       "{1, 2, 3}"
      ]
     },
     "execution_count": 35,
     "metadata": {},
     "output_type": "execute_result"
    }
   ],
   "source": [
    "S1|S2"
   ]
  },
  {
   "cell_type": "code",
   "execution_count": 36,
   "id": "9b2fbabd",
   "metadata": {},
   "outputs": [
    {
     "data": {
      "text/plain": [
       "{1, 2, 3}"
      ]
     },
     "execution_count": 36,
     "metadata": {},
     "output_type": "execute_result"
    }
   ],
   "source": [
    "{1,2}.union({2,3})"
   ]
  },
  {
   "cell_type": "code",
   "execution_count": 37,
   "id": "36383701",
   "metadata": {},
   "outputs": [
    {
     "data": {
      "text/plain": [
       "{1, 2, 3}"
      ]
     },
     "execution_count": 37,
     "metadata": {},
     "output_type": "execute_result"
    }
   ],
   "source": [
    "{1,2}|{2,3}"
   ]
  },
  {
   "cell_type": "code",
   "execution_count": 38,
   "id": "24a71068",
   "metadata": {},
   "outputs": [],
   "source": [
    "S1.update(S2)"
   ]
  },
  {
   "cell_type": "code",
   "execution_count": 39,
   "id": "620a37e4",
   "metadata": {},
   "outputs": [
    {
     "data": {
      "text/plain": [
       "{1, 2, 3}"
      ]
     },
     "execution_count": 39,
     "metadata": {},
     "output_type": "execute_result"
    }
   ],
   "source": [
    "S1"
   ]
  },
  {
   "cell_type": "code",
   "execution_count": 46,
   "id": "b42d3fc0",
   "metadata": {},
   "outputs": [],
   "source": [
    "S1={1,2}\n",
    "S2={2,3}"
   ]
  },
  {
   "cell_type": "code",
   "execution_count": 42,
   "id": "c17a2d8a",
   "metadata": {},
   "outputs": [
    {
     "data": {
      "text/plain": [
       "{2}"
      ]
     },
     "execution_count": 42,
     "metadata": {},
     "output_type": "execute_result"
    }
   ],
   "source": [
    "S1.intersection(S2)"
   ]
  },
  {
   "cell_type": "code",
   "execution_count": 43,
   "id": "a6709dac",
   "metadata": {},
   "outputs": [
    {
     "data": {
      "text/plain": [
       "{2}"
      ]
     },
     "execution_count": 43,
     "metadata": {},
     "output_type": "execute_result"
    }
   ],
   "source": [
    "S1 & S2"
   ]
  },
  {
   "cell_type": "code",
   "execution_count": 44,
   "id": "4f0f4596",
   "metadata": {},
   "outputs": [
    {
     "data": {
      "text/plain": [
       "{3}"
      ]
     },
     "execution_count": 44,
     "metadata": {},
     "output_type": "execute_result"
    }
   ],
   "source": [
    "{1,2,3}.intersection({2,3,4},{1,3,5})"
   ]
  },
  {
   "cell_type": "code",
   "execution_count": 45,
   "id": "6c0c8097",
   "metadata": {},
   "outputs": [
    {
     "data": {
      "text/plain": [
       "{3}"
      ]
     },
     "execution_count": 45,
     "metadata": {},
     "output_type": "execute_result"
    }
   ],
   "source": [
    "{1,2,3}& {2,3,4} & {1,3,5}"
   ]
  },
  {
   "cell_type": "code",
   "execution_count": 47,
   "id": "f87b3f0a",
   "metadata": {},
   "outputs": [],
   "source": [
    "S1={1,2}\n",
    "S2={2,3}"
   ]
  },
  {
   "cell_type": "code",
   "execution_count": 48,
   "id": "3aa8d3a5",
   "metadata": {},
   "outputs": [
    {
     "data": {
      "text/plain": [
       "{1}"
      ]
     },
     "execution_count": 48,
     "metadata": {},
     "output_type": "execute_result"
    }
   ],
   "source": [
    "S1.difference(S2)"
   ]
  },
  {
   "cell_type": "code",
   "execution_count": 49,
   "id": "6dffe341",
   "metadata": {},
   "outputs": [
    {
     "data": {
      "text/plain": [
       "{1}"
      ]
     },
     "execution_count": 49,
     "metadata": {},
     "output_type": "execute_result"
    }
   ],
   "source": [
    "S1-S2"
   ]
  },
  {
   "cell_type": "code",
   "execution_count": 50,
   "id": "44fdc432",
   "metadata": {},
   "outputs": [],
   "source": [
    "S1={1,2}\n",
    "S2={2,3}"
   ]
  },
  {
   "cell_type": "code",
   "execution_count": 51,
   "id": "dafd5db8",
   "metadata": {},
   "outputs": [
    {
     "data": {
      "text/plain": [
       "{1, 3}"
      ]
     },
     "execution_count": 51,
     "metadata": {},
     "output_type": "execute_result"
    }
   ],
   "source": [
    "S1.symmetric_difference(S2)"
   ]
  },
  {
   "cell_type": "code",
   "execution_count": 52,
   "id": "e3ff0197",
   "metadata": {},
   "outputs": [],
   "source": [
    "S1.symmetric_difference_update(S2)"
   ]
  },
  {
   "cell_type": "code",
   "execution_count": 53,
   "id": "44d38c3f",
   "metadata": {},
   "outputs": [
    {
     "data": {
      "text/plain": [
       "{1, 3}"
      ]
     },
     "execution_count": 53,
     "metadata": {},
     "output_type": "execute_result"
    }
   ],
   "source": [
    "S1"
   ]
  },
  {
   "cell_type": "code",
   "execution_count": 56,
   "id": "6e5fed78",
   "metadata": {},
   "outputs": [],
   "source": [
    "S1={1,2}\n",
    "S2={2,3}\n",
    "S3={3,4}"
   ]
  },
  {
   "cell_type": "code",
   "execution_count": 55,
   "id": "55a34e62",
   "metadata": {},
   "outputs": [
    {
     "data": {
      "text/plain": [
       "False"
      ]
     },
     "execution_count": 55,
     "metadata": {},
     "output_type": "execute_result"
    }
   ],
   "source": [
    "S1.isdisjoint(S2)"
   ]
  },
  {
   "cell_type": "code",
   "execution_count": 57,
   "id": "5281b71f",
   "metadata": {},
   "outputs": [
    {
     "data": {
      "text/plain": [
       "True"
      ]
     },
     "execution_count": 57,
     "metadata": {},
     "output_type": "execute_result"
    }
   ],
   "source": [
    "S1.isdisjoint(S3)"
   ]
  },
  {
   "cell_type": "code",
   "execution_count": 58,
   "id": "fd9a8b38",
   "metadata": {},
   "outputs": [
    {
     "data": {
      "text/plain": [
       "False"
      ]
     },
     "execution_count": 58,
     "metadata": {},
     "output_type": "execute_result"
    }
   ],
   "source": [
    "S2.isdisjoint(S3)"
   ]
  },
  {
   "cell_type": "code",
   "execution_count": 59,
   "id": "f782fcad",
   "metadata": {},
   "outputs": [],
   "source": [
    "S1={1,2}\n",
    "S2={1,2,3}"
   ]
  },
  {
   "cell_type": "code",
   "execution_count": 60,
   "id": "bcc5e98f",
   "metadata": {},
   "outputs": [
    {
     "data": {
      "text/plain": [
       "True"
      ]
     },
     "execution_count": 60,
     "metadata": {},
     "output_type": "execute_result"
    }
   ],
   "source": [
    "S1.issubset(S2)"
   ]
  },
  {
   "cell_type": "code",
   "execution_count": 61,
   "id": "10bda580",
   "metadata": {},
   "outputs": [
    {
     "data": {
      "text/plain": [
       "True"
      ]
     },
     "execution_count": 61,
     "metadata": {},
     "output_type": "execute_result"
    }
   ],
   "source": [
    "S1<=S2"
   ]
  },
  {
   "cell_type": "code",
   "execution_count": 62,
   "id": "b0b46282",
   "metadata": {},
   "outputs": [
    {
     "data": {
      "text/plain": [
       "False"
      ]
     },
     "execution_count": 62,
     "metadata": {},
     "output_type": "execute_result"
    }
   ],
   "source": [
    "S1.issuperset(S2)"
   ]
  },
  {
   "cell_type": "code",
   "execution_count": 63,
   "id": "758fb986",
   "metadata": {},
   "outputs": [
    {
     "data": {
      "text/plain": [
       "True"
      ]
     },
     "execution_count": 63,
     "metadata": {},
     "output_type": "execute_result"
    }
   ],
   "source": [
    "S2.issuperset(S1)"
   ]
  },
  {
   "cell_type": "code",
   "execution_count": 64,
   "id": "d116bae0",
   "metadata": {},
   "outputs": [
    {
     "data": {
      "text/plain": [
       "True"
      ]
     },
     "execution_count": 64,
     "metadata": {},
     "output_type": "execute_result"
    }
   ],
   "source": [
    "S2>=S1"
   ]
  },
  {
   "cell_type": "code",
   "execution_count": null,
   "id": "1b11e50c",
   "metadata": {},
   "outputs": [],
   "source": []
  }
 ],
 "metadata": {
  "kernelspec": {
   "display_name": "Python 3 (ipykernel)",
   "language": "python",
   "name": "python3"
  },
  "language_info": {
   "codemirror_mode": {
    "name": "ipython",
    "version": 3
   },
   "file_extension": ".py",
   "mimetype": "text/x-python",
   "name": "python",
   "nbconvert_exporter": "python",
   "pygments_lexer": "ipython3",
   "version": "3.9.7"
  }
 },
 "nbformat": 4,
 "nbformat_minor": 5
}
