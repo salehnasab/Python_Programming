{
 "cells": [
  {
   "cell_type": "code",
   "execution_count": 2,
   "id": "620161f1",
   "metadata": {},
   "outputs": [
    {
     "name": "stdout",
     "output_type": "stream",
     "text": [
      "Enter your name: Alireza\n",
      "Enter youe age: 45\n",
      "Hi Alireza, you are 45 years old!\n"
     ]
    }
   ],
   "source": [
    "name=input(\"Enter your name: \")\n",
    "age = int(input(\"Enter youe age: \"))\n",
    "print(\"Hi {}, you are {:d} years old!\".format(name,age))"
   ]
  },
  {
   "cell_type": "code",
   "execution_count": 4,
   "id": "d2aa38f0",
   "metadata": {},
   "outputs": [
    {
     "name": "stdout",
     "output_type": "stream",
     "text": [
      "Enter an integer: 4\n",
      "x=4\n",
      "x lies between 3 and 5\n",
      "square(x)=16 cube(x)=64\n",
      "sqrt(x)=2.0\n",
      "factorial(x)=24\n"
     ]
    }
   ],
   "source": [
    "import math\n",
    "x = int(input(\"Enter an integer: \"))\n",
    "print(\"x={}\".format(x));\n",
    "print(\"x lies between {} and {}\".format(x-1,x+1))\n",
    "print(\"square(x)={} cube(x)={}\".format(x**2,pow(x,3)))\n",
    "print(\"sqrt(x)={}\".format(math.sqrt(x)))\n",
    "print(\"factorial(x)={}\".format(math.factorial(x)))\n"
   ]
  },
  {
   "cell_type": "code",
   "execution_count": 5,
   "id": "35f4c0db",
   "metadata": {},
   "outputs": [
    {
     "name": "stdout",
     "output_type": "stream",
     "text": [
      "Enter a real number: 2\n",
      "Natural logarithm and anti-logarithm\n",
      "ln(x)=0.6931471805599453 exp(ln(x))=2.0\n",
      "\n",
      "Common logarithm and anti-logarithm\n",
      "log(x)=0.3010299956639812 antilog(log(x))=2.0\n",
      "\n",
      "Base 2 logarithm and anti-logarithm\n",
      "log2(x)=1.0 antilog2(log2(x))=2.0\n"
     ]
    }
   ],
   "source": [
    "# Logarithms and anti-logarithms\n",
    "import math\n",
    "x = float(input(\"Enter a real number: \"))\n",
    "print(\"Natural logarithm and anti-logarithm\")\n",
    "print(\"ln(x)={} exp(ln(x))={}\".format(math.log(x), math.exp(math.log(x))))\n",
    "print(\"\\nCommon logarithm and anti-logarithm\")\n",
    "print(\"log(x)={} antilog(log(x))={}\".format(math.log10(x), pow(10,math.log10(x))))\n",
    "print(\"\\nBase 2 logarithm and anti-logarithm\")\n",
    "print(\"log2(x)={} antilog2(log2(x))={}\".format(math.log(x,2), pow(2,math.log(x,2))))\n"
   ]
  },
  {
   "cell_type": "code",
   "execution_count": 7,
   "id": "1140e08d",
   "metadata": {},
   "outputs": [
    {
     "name": "stdout",
     "output_type": "stream",
     "text": [
      "Enter your name: Fatemeh\n",
      "Enter your age: 17\n",
      "Sorry Fatemeh! You can’t vote!\n"
     ]
    }
   ],
   "source": [
    "name = input(\"Enter your name: \")\n",
    "age = int(input(\"Enter your age: \"))\n",
    "if age >= 18: print(\"Hi {}! You can vote!\".format(name))\n",
    "if age < 18: print(\"Sorry {}! You can’t vote!\".format(name))\n"
   ]
  },
  {
   "cell_type": "code",
   "execution_count": 9,
   "id": "68bd7533",
   "metadata": {},
   "outputs": [
    {
     "name": "stdout",
     "output_type": "stream",
     "text": [
      "Enter your name: Ali\n",
      "Enter your age: 17\n",
      "Sorry Ali! You can’t vote!\n"
     ]
    }
   ],
   "source": [
    "name = input(\"Enter your name: \")\n",
    "age = int(input(\"Enter your age: \"))\n",
    "if age >= 18:\n",
    "    print(\"Hi {}! You can vote!\".format(name))\n",
    "else:\n",
    "    print(\"Sorry {}! You can’t vote!\".format(name))"
   ]
  },
  {
   "cell_type": "code",
   "execution_count": 13,
   "id": "8993a8a3",
   "metadata": {},
   "outputs": [
    {
     "name": "stdout",
     "output_type": "stream",
     "text": [
      "Enter an integer:0\n",
      "0 is zero\n"
     ]
    }
   ],
   "source": [
    "x= int(input(\"Enter an integer:\"))\n",
    "if x>0:\n",
    "    print(\"{} is positive\".format(x))\n",
    "elif x<0:\n",
    "    print(\"{} is negetive\".format(x))\n",
    "else:\n",
    "    print(\"{} is zero\".format(x))"
   ]
  },
  {
   "cell_type": "code",
   "execution_count": 15,
   "id": "4a493b84",
   "metadata": {},
   "outputs": [
    {
     "name": "stdout",
     "output_type": "stream",
     "text": [
      "Enter the value of a: -2\n",
      "Enter the value of b: 3\n",
      "Enter the value of c: 5\n",
      "The roots are real and distinct\n",
      "The roots are -1.0 and 2.5\n"
     ]
    }
   ],
   "source": [
    "#!/usr/bin/python\n",
    "# Script to classify and determine\n",
    "# the roots of a quadratic equation\n",
    "import math\n",
    "a = int(input(\"Enter the value of a: \"))\n",
    "b = int(input(\"Enter the value of b: \"))\n",
    "c = int(input(\"Enter the value of c: \"))\n",
    "discriminant = b**2 - 4*a*c\n",
    "if discriminant == 0:\n",
    "    print(\"The roots are real and equal\")\n",
    "    x = -b/(2*a)\n",
    "    print(\"The root is\",x)\n",
    "elif discriminant > 0:\n",
    "    print(\"The roots are real and distinct\")\n",
    "    part1 = -b/(2*a)\n",
    "    part2 = math.sqrt(discriminant)/(2*a)\n",
    "    x1 = part1 + part2\n",
    "    x2 = part1 - part2\n",
    "    print(\"The roots are\", x1, \"and\", x2)\n",
    "else:\n",
    "    print(\"The roots are imaginary\")\n",
    "    part1 = -b/(2*a)\n",
    "    part2 = math.sqrt(-discriminant)/(2*a)\n",
    "    x1 = complex(part1, part2)\n",
    "    x2 = complex(part1, -part2)\n",
    "    print(\"The roots are\", x1, \"and\", x2)\n"
   ]
  },
  {
   "cell_type": "code",
   "execution_count": null,
   "id": "e4d602a6",
   "metadata": {},
   "outputs": [],
   "source": []
  },
  {
   "cell_type": "code",
   "execution_count": null,
   "id": "877b5248",
   "metadata": {},
   "outputs": [],
   "source": []
  }
 ],
 "metadata": {
  "kernelspec": {
   "display_name": "Python 3 (ipykernel)",
   "language": "python",
   "name": "python3"
  },
  "language_info": {
   "codemirror_mode": {
    "name": "ipython",
    "version": 3
   },
   "file_extension": ".py",
   "mimetype": "text/x-python",
   "name": "python",
   "nbconvert_exporter": "python",
   "pygments_lexer": "ipython3",
   "version": "3.9.7"
  }
 },
 "nbformat": 4,
 "nbformat_minor": 5
}
